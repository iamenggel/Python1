{
  "nbformat": 4,
  "nbformat_minor": 0,
  "metadata": {
    "colab": {
      "name": "aula introdução no youtube.ipynb",
      "provenance": [],
      "authorship_tag": "ABX9TyOBHnZQJ2Wza99S7q9AnhTq",
      "include_colab_link": true
    },
    "kernelspec": {
      "name": "python3",
      "display_name": "Python 3"
    },
    "language_info": {
      "name": "python"
    }
  },
  "cells": [
    {
      "cell_type": "markdown",
      "metadata": {
        "id": "view-in-github",
        "colab_type": "text"
      },
      "source": [
        "<a href=\"https://colab.research.google.com/github/iamenggel/Python1/blob/main/aula_introdu%C3%A7%C3%A3o_no_youtube.ipynb\" target=\"_parent\"><img src=\"https://colab.research.google.com/assets/colab-badge.svg\" alt=\"Open In Colab\"/></a>"
      ]
    },
    {
      "cell_type": "markdown",
      "metadata": {
        "id": "yBOOhukb0c0Q"
      },
      "source": [
        "###Canal Código Quant \n",
        "\n",
        "Nosso primeiro comando de Phyton\n",
        "\n",
        "Textos e strings"
      ]
    },
    {
      "cell_type": "code",
      "metadata": {
        "colab": {
          "base_uri": "https://localhost:8080/"
        },
        "id": "1gV-7jMIztbw",
        "outputId": "9f37e9a5-16a5-4b54-d824-3cee933416c8"
      },
      "source": [
        "print(\"Olá estranho!\")"
      ],
      "execution_count": 89,
      "outputs": [
        {
          "output_type": "stream",
          "text": [
            "Olá estranho!\n"
          ],
          "name": "stdout"
        }
      ]
    },
    {
      "cell_type": "markdown",
      "metadata": {
        "id": "Xr5czCnb0Pqs"
      },
      "source": [
        "Strings\n"
      ]
    },
    {
      "cell_type": "code",
      "metadata": {
        "colab": {
          "base_uri": "https://localhost:8080/"
        },
        "id": "4unwqSfD02n0",
        "outputId": "8c5b5f84-27d9-4e44-c956-9d69a90d5f89"
      },
      "source": [
        "print(\"Curso\" + \" de Phyton\")"
      ],
      "execution_count": 90,
      "outputs": [
        {
          "output_type": "stream",
          "text": [
            "Curso de Phyton\n"
          ],
          "name": "stdout"
        }
      ]
    },
    {
      "cell_type": "markdown",
      "metadata": {
        "id": "yFuy-Yw41S_A"
      },
      "source": [
        "Substituindo valores com ``format ()``\n"
      ]
    },
    {
      "cell_type": "markdown",
      "metadata": {
        "id": "skvQqDAX1eA_"
      },
      "source": [
        ""
      ]
    },
    {
      "cell_type": "code",
      "metadata": {
        "colab": {
          "base_uri": "https://localhost:8080/"
        },
        "id": "ONAP9SDf1jeG",
        "outputId": "f5bd5f10-6ec7-47c8-96ae-a49ad2b39c70"
      },
      "source": [
        "print(\"Aula {} do Curso {}\".format(1, \"Python\"))"
      ],
      "execution_count": 91,
      "outputs": [
        {
          "output_type": "stream",
          "text": [
            "Aula 1 do Curso Python\n"
          ],
          "name": "stdout"
        }
      ]
    },
    {
      "cell_type": "markdown",
      "metadata": {
        "id": "X_OD9zA72BJC"
      },
      "source": [
        "Transformando para minusculas com ``lower()``\n"
      ]
    },
    {
      "cell_type": "code",
      "metadata": {
        "colab": {
          "base_uri": "https://localhost:8080/"
        },
        "id": "uP47cGeG2LPJ",
        "outputId": "d103a40a-bd1a-4da0-8457-f5f30fb4048b"
      },
      "source": [
        "print(\"Curso de Phyton para iniciantes\".lower())"
      ],
      "execution_count": 92,
      "outputs": [
        {
          "output_type": "stream",
          "text": [
            "curso de phyton para iniciantes\n"
          ],
          "name": "stdout"
        }
      ]
    },
    {
      "cell_type": "code",
      "metadata": {
        "colab": {
          "base_uri": "https://localhost:8080/"
        },
        "id": "x6sup1ja2Xen",
        "outputId": "a5d77650-1073-4f53-b45c-c510a08c0e7a"
      },
      "source": [
        "print(\"Curso de Phyton para iniciantes\".upper())"
      ],
      "execution_count": 93,
      "outputs": [
        {
          "output_type": "stream",
          "text": [
            "CURSO DE PHYTON PARA INICIANTES\n"
          ],
          "name": "stdout"
        }
      ]
    },
    {
      "cell_type": "code",
      "metadata": {
        "colab": {
          "base_uri": "https://localhost:8080/"
        },
        "id": "4xpwNTnL2cyR",
        "outputId": "2c956d72-3f81-42d7-8d2a-5dea1248d0e4"
      },
      "source": [
        "print(\"           Curso de Phyton para iniciantes         \".strip()) #retra os espaços"
      ],
      "execution_count": 94,
      "outputs": [
        {
          "output_type": "stream",
          "text": [
            "Curso de Phyton para iniciantes\n"
          ],
          "name": "stdout"
        }
      ]
    },
    {
      "cell_type": "code",
      "metadata": {
        "colab": {
          "base_uri": "https://localhost:8080/"
        },
        "id": "q5YPeFY22m8B",
        "outputId": "9d64a838-99c7-40b7-ae48-6481be587674"
      },
      "source": [
        "type(\"Curso de Phyton\")"
      ],
      "execution_count": 95,
      "outputs": [
        {
          "output_type": "execute_result",
          "data": {
            "text/plain": [
              "str"
            ]
          },
          "metadata": {
            "tags": []
          },
          "execution_count": 95
        }
      ]
    },
    {
      "cell_type": "code",
      "metadata": {
        "colab": {
          "base_uri": "https://localhost:8080/"
        },
        "id": "Ruj1oANS2u4W",
        "outputId": "4278db8b-06db-4dbe-e6c8-ded626fe6d3b"
      },
      "source": [
        "type(2)"
      ],
      "execution_count": 96,
      "outputs": [
        {
          "output_type": "execute_result",
          "data": {
            "text/plain": [
              "int"
            ]
          },
          "metadata": {
            "tags": []
          },
          "execution_count": 96
        }
      ]
    },
    {
      "cell_type": "code",
      "metadata": {
        "colab": {
          "base_uri": "https://localhost:8080/"
        },
        "id": "ELht9fW32ynB",
        "outputId": "83c093b6-ae9b-4f53-da01-ca8e37eec008"
      },
      "source": [
        "type(2.4)"
      ],
      "execution_count": 97,
      "outputs": [
        {
          "output_type": "execute_result",
          "data": {
            "text/plain": [
              "float"
            ]
          },
          "metadata": {
            "tags": []
          },
          "execution_count": 97
        }
      ]
    },
    {
      "cell_type": "code",
      "metadata": {
        "colab": {
          "base_uri": "https://localhost:8080/"
        },
        "id": "abOjmllP3Cjw",
        "outputId": "eac2d8ad-6f1d-4fc2-8016-3141711a664b"
      },
      "source": [
        "5**2 #potenciação"
      ],
      "execution_count": 98,
      "outputs": [
        {
          "output_type": "execute_result",
          "data": {
            "text/plain": [
              "25"
            ]
          },
          "metadata": {
            "tags": []
          },
          "execution_count": 98
        }
      ]
    },
    {
      "cell_type": "code",
      "metadata": {
        "colab": {
          "base_uri": "https://localhost:8080/"
        },
        "id": "katzZKtm3La4",
        "outputId": "144985d0-0ec9-442e-c2ef-afd3af94ac65"
      },
      "source": [
        "15//2 #divisão inteira"
      ],
      "execution_count": 99,
      "outputs": [
        {
          "output_type": "execute_result",
          "data": {
            "text/plain": [
              "7"
            ]
          },
          "metadata": {
            "tags": []
          },
          "execution_count": 99
        }
      ]
    },
    {
      "cell_type": "markdown",
      "metadata": {
        "id": "5QCXdW_E4Bod"
      },
      "source": [
        "Variáveis"
      ]
    },
    {
      "cell_type": "code",
      "metadata": {
        "colab": {
          "base_uri": "https://localhost:8080/",
          "height": 35
        },
        "id": "zCqjqGCd4FMX",
        "outputId": "be9604f4-aa55-45d7-db6d-0d4ecc82328a"
      },
      "source": [
        "texto= \"Curso de Phyton para iniciantes\"\n",
        "texto"
      ],
      "execution_count": 100,
      "outputs": [
        {
          "output_type": "execute_result",
          "data": {
            "application/vnd.google.colaboratory.intrinsic+json": {
              "type": "string"
            },
            "text/plain": [
              "'Curso de Phyton para iniciantes'"
            ]
          },
          "metadata": {
            "tags": []
          },
          "execution_count": 100
        }
      ]
    },
    {
      "cell_type": "code",
      "metadata": {
        "colab": {
          "base_uri": "https://localhost:8080/",
          "height": 35
        },
        "id": "rRdS9XVi4OuR",
        "outputId": "901dc0d5-b345-40eb-9228-6ff1757e96c7"
      },
      "source": [
        "texto = texto + \" - Aula 02\"\n",
        "texto"
      ],
      "execution_count": 101,
      "outputs": [
        {
          "output_type": "execute_result",
          "data": {
            "application/vnd.google.colaboratory.intrinsic+json": {
              "type": "string"
            },
            "text/plain": [
              "'Curso de Phyton para iniciantes - Aula 02'"
            ]
          },
          "metadata": {
            "tags": []
          },
          "execution_count": 101
        }
      ]
    },
    {
      "cell_type": "code",
      "metadata": {
        "colab": {
          "base_uri": "https://localhost:8080/"
        },
        "id": "t7qVslc64e2Q",
        "outputId": "8f52a63c-3d90-4e0f-bf09-17b268596ff9"
      },
      "source": [
        "soma = 0\n",
        "soma "
      ],
      "execution_count": 102,
      "outputs": [
        {
          "output_type": "execute_result",
          "data": {
            "text/plain": [
              "0"
            ]
          },
          "metadata": {
            "tags": []
          },
          "execution_count": 102
        }
      ]
    },
    {
      "cell_type": "markdown",
      "metadata": {
        "id": "tUQX10F54lnf"
      },
      "source": [
        "Incremetando e decrementando"
      ]
    },
    {
      "cell_type": "code",
      "metadata": {
        "colab": {
          "base_uri": "https://localhost:8080/"
        },
        "id": "NNaUb5vU4j0t",
        "outputId": "a72b80cb-5bf2-4c9f-8566-95631659ad03"
      },
      "source": [
        "soma = soma + 1\n",
        "soma"
      ],
      "execution_count": 103,
      "outputs": [
        {
          "output_type": "execute_result",
          "data": {
            "text/plain": [
              "1"
            ]
          },
          "metadata": {
            "tags": []
          },
          "execution_count": 103
        }
      ]
    },
    {
      "cell_type": "code",
      "metadata": {
        "colab": {
          "base_uri": "https://localhost:8080/"
        },
        "id": "C2co8xo24z_3",
        "outputId": "ab70e9e7-6cef-43de-8dcf-1283c69d994f"
      },
      "source": [
        "soma += 2\n",
        "soma"
      ],
      "execution_count": 104,
      "outputs": [
        {
          "output_type": "execute_result",
          "data": {
            "text/plain": [
              "3"
            ]
          },
          "metadata": {
            "tags": []
          },
          "execution_count": 104
        }
      ]
    },
    {
      "cell_type": "code",
      "metadata": {
        "colab": {
          "base_uri": "https://localhost:8080/"
        },
        "id": "D1K-Okcw56jW",
        "outputId": "7a2d893f-f59d-40f0-b197-eb081570e455"
      },
      "source": [
        "soma -= 1\n",
        "soma"
      ],
      "execution_count": 105,
      "outputs": [
        {
          "output_type": "execute_result",
          "data": {
            "text/plain": [
              "2"
            ]
          },
          "metadata": {
            "tags": []
          },
          "execution_count": 105
        }
      ]
    },
    {
      "cell_type": "code",
      "metadata": {
        "colab": {
          "base_uri": "https://localhost:8080/"
        },
        "id": "6_lyLXE_6FR2",
        "outputId": "00c505ff-8125-44fd-a286-05f9fffb40eb"
      },
      "source": [
        "soma - 1\n",
        "soma"
      ],
      "execution_count": 106,
      "outputs": [
        {
          "output_type": "execute_result",
          "data": {
            "text/plain": [
              "2"
            ]
          },
          "metadata": {
            "tags": []
          },
          "execution_count": 106
        }
      ]
    },
    {
      "cell_type": "markdown",
      "metadata": {
        "id": "--NDr5VP6T22"
      },
      "source": [
        "###Criando listas"
      ]
    },
    {
      "cell_type": "code",
      "metadata": {
        "colab": {
          "base_uri": "https://localhost:8080/"
        },
        "id": "HQ65aUcL6OzI",
        "outputId": "6c746325-6252-43b4-97ce-17642d0f0c3f"
      },
      "source": [
        "frutas = ['maça', 'banana', 'laranja']\n",
        "frutas"
      ],
      "execution_count": 107,
      "outputs": [
        {
          "output_type": "execute_result",
          "data": {
            "text/plain": [
              "['maça', 'banana', 'laranja']"
            ]
          },
          "metadata": {
            "tags": []
          },
          "execution_count": 107
        }
      ]
    },
    {
      "cell_type": "code",
      "metadata": {
        "colab": {
          "base_uri": "https://localhost:8080/",
          "height": 0
        },
        "id": "DIinbtLe6jkq",
        "outputId": "e7d9b316-12bd-4085-be5d-ec93c3e2fc8f"
      },
      "source": [
        "frutas[0]"
      ],
      "execution_count": 108,
      "outputs": [
        {
          "output_type": "execute_result",
          "data": {
            "application/vnd.google.colaboratory.intrinsic+json": {
              "type": "string"
            },
            "text/plain": [
              "'maça'"
            ]
          },
          "metadata": {
            "tags": []
          },
          "execution_count": 108
        }
      ]
    },
    {
      "cell_type": "code",
      "metadata": {
        "colab": {
          "base_uri": "https://localhost:8080/",
          "height": 0
        },
        "id": "pUWI8PFn6qzu",
        "outputId": "a6cb6546-6023-4459-b1ee-672acd36057e"
      },
      "source": [
        "frutas[2]"
      ],
      "execution_count": 109,
      "outputs": [
        {
          "output_type": "execute_result",
          "data": {
            "application/vnd.google.colaboratory.intrinsic+json": {
              "type": "string"
            },
            "text/plain": [
              "'laranja'"
            ]
          },
          "metadata": {
            "tags": []
          },
          "execution_count": 109
        }
      ]
    },
    {
      "cell_type": "code",
      "metadata": {
        "colab": {
          "base_uri": "https://localhost:8080/"
        },
        "id": "GwjBSyHd6vNs",
        "outputId": "7c239877-6042-4e0b-e248-81f0873c5b28"
      },
      "source": [
        "numeros = [1,2.6, 4, 8,]\n",
        "numeros"
      ],
      "execution_count": 110,
      "outputs": [
        {
          "output_type": "execute_result",
          "data": {
            "text/plain": [
              "[1, 2.6, 4, 8]"
            ]
          },
          "metadata": {
            "tags": []
          },
          "execution_count": 110
        }
      ]
    },
    {
      "cell_type": "code",
      "metadata": {
        "colab": {
          "base_uri": "https://localhost:8080/"
        },
        "id": "DiJYeB0B69JV",
        "outputId": "f2db1b5d-2687-4f9f-c749-4ef6a27b82a2"
      },
      "source": [
        "lista = ['a', 'b', 'c', frutas, numeros]\n",
        "lista"
      ],
      "execution_count": 111,
      "outputs": [
        {
          "output_type": "execute_result",
          "data": {
            "text/plain": [
              "['a', 'b', 'c', ['maça', 'banana', 'laranja'], [1, 2.6, 4, 8]]"
            ]
          },
          "metadata": {
            "tags": []
          },
          "execution_count": 111
        }
      ]
    },
    {
      "cell_type": "code",
      "metadata": {
        "colab": {
          "base_uri": "https://localhost:8080/"
        },
        "id": "yNylbPnx7MnE",
        "outputId": "6a292700-0ac6-463c-fb5c-201f4344126b"
      },
      "source": [
        "lista [3]"
      ],
      "execution_count": 112,
      "outputs": [
        {
          "output_type": "execute_result",
          "data": {
            "text/plain": [
              "['maça', 'banana', 'laranja']"
            ]
          },
          "metadata": {
            "tags": []
          },
          "execution_count": 112
        }
      ]
    },
    {
      "cell_type": "code",
      "metadata": {
        "colab": {
          "base_uri": "https://localhost:8080/",
          "height": 0
        },
        "id": "Pji0eoFA7V3N",
        "outputId": "32dd43bf-2828-42ea-e66c-a8eae1e187f8"
      },
      "source": [
        "lista[3][0] #elemento dentro da lista"
      ],
      "execution_count": 113,
      "outputs": [
        {
          "output_type": "execute_result",
          "data": {
            "application/vnd.google.colaboratory.intrinsic+json": {
              "type": "string"
            },
            "text/plain": [
              "'maça'"
            ]
          },
          "metadata": {
            "tags": []
          },
          "execution_count": 113
        }
      ]
    },
    {
      "cell_type": "code",
      "metadata": {
        "colab": {
          "base_uri": "https://localhost:8080/"
        },
        "id": "D4Ezsnrw7elV",
        "outputId": "32ffda2c-781d-4578-cb93-0a70759a6108"
      },
      "source": [
        "lista[:2] #do inicio até o elemento de indice 2 da lista"
      ],
      "execution_count": 114,
      "outputs": [
        {
          "output_type": "execute_result",
          "data": {
            "text/plain": [
              "['a', 'b']"
            ]
          },
          "metadata": {
            "tags": []
          },
          "execution_count": 114
        }
      ]
    },
    {
      "cell_type": "code",
      "metadata": {
        "colab": {
          "base_uri": "https://localhost:8080/"
        },
        "id": "GB00SBJb7qtV",
        "outputId": "fb27b389-4876-47e9-a05b-aa6ebbd148f0"
      },
      "source": [
        "lista[1:4]"
      ],
      "execution_count": 115,
      "outputs": [
        {
          "output_type": "execute_result",
          "data": {
            "text/plain": [
              "['b', 'c', ['maça', 'banana', 'laranja']]"
            ]
          },
          "metadata": {
            "tags": []
          },
          "execution_count": 115
        }
      ]
    },
    {
      "cell_type": "markdown",
      "metadata": {
        "id": "1Op20dWa77Tu"
      },
      "source": [
        "Adicionando e removendo elementos\n"
      ]
    },
    {
      "cell_type": "code",
      "metadata": {
        "colab": {
          "base_uri": "https://localhost:8080/"
        },
        "id": "gRAQetpS71PR",
        "outputId": "31c25c6f-1657-40b4-d7fc-fbf362489be4"
      },
      "source": [
        "frutas.append('goiaba') \n",
        "frutas"
      ],
      "execution_count": 116,
      "outputs": [
        {
          "output_type": "execute_result",
          "data": {
            "text/plain": [
              "['maça', 'banana', 'laranja', 'goiaba']"
            ]
          },
          "metadata": {
            "tags": []
          },
          "execution_count": 116
        }
      ]
    },
    {
      "cell_type": "code",
      "metadata": {
        "colab": {
          "base_uri": "https://localhost:8080/"
        },
        "id": "cYUPwq9h8Kbl",
        "outputId": "fe4a7964-b1c8-4ef8-b795-7fcca3807ed9"
      },
      "source": [
        "frutas.pop(0)\n",
        "frutas"
      ],
      "execution_count": 117,
      "outputs": [
        {
          "output_type": "execute_result",
          "data": {
            "text/plain": [
              "['banana', 'laranja', 'goiaba']"
            ]
          },
          "metadata": {
            "tags": []
          },
          "execution_count": 117
        }
      ]
    },
    {
      "cell_type": "code",
      "metadata": {
        "id": "TQSRbsfQ8SyX"
      },
      "source": [
        ""
      ],
      "execution_count": 117,
      "outputs": []
    },
    {
      "cell_type": "markdown",
      "metadata": {
        "id": "2rC-reKL8XaB"
      },
      "source": [
        "Alterar os elementos"
      ]
    },
    {
      "cell_type": "code",
      "metadata": {
        "colab": {
          "base_uri": "https://localhost:8080/"
        },
        "id": "qfXyAPp58eRb",
        "outputId": "b60f99d6-2f05-45fc-a5f1-a21074e3783d"
      },
      "source": [
        "frutas"
      ],
      "execution_count": 118,
      "outputs": [
        {
          "output_type": "execute_result",
          "data": {
            "text/plain": [
              "['banana', 'laranja', 'goiaba']"
            ]
          },
          "metadata": {
            "tags": []
          },
          "execution_count": 118
        }
      ]
    },
    {
      "cell_type": "code",
      "metadata": {
        "colab": {
          "base_uri": "https://localhost:8080/"
        },
        "id": "N6QEn0WY8jgn",
        "outputId": "372f9748-2c8c-42c1-a685-582ef9836bbc"
      },
      "source": [
        "frutas[0]='pera'\n",
        "frutas"
      ],
      "execution_count": 119,
      "outputs": [
        {
          "output_type": "execute_result",
          "data": {
            "text/plain": [
              "['pera', 'laranja', 'goiaba']"
            ]
          },
          "metadata": {
            "tags": []
          },
          "execution_count": 119
        }
      ]
    },
    {
      "cell_type": "markdown",
      "metadata": {
        "id": "sFCKcpv28sLU"
      },
      "source": [
        "Tuplas - valores não podem ser alterados\n",
        "índices não estão em conchetes"
      ]
    },
    {
      "cell_type": "code",
      "metadata": {
        "colab": {
          "base_uri": "https://localhost:8080/"
        },
        "id": "rXkE-yWO8xJQ",
        "outputId": "3a897b01-513e-427e-ffa9-c9ba9d9eebaf"
      },
      "source": [
        "marcas = 'gm', 'ford', 'fiat', 'vw'\n",
        "marcas"
      ],
      "execution_count": 120,
      "outputs": [
        {
          "output_type": "execute_result",
          "data": {
            "text/plain": [
              "('gm', 'ford', 'fiat', 'vw')"
            ]
          },
          "metadata": {
            "tags": []
          },
          "execution_count": 120
        }
      ]
    },
    {
      "cell_type": "code",
      "metadata": {
        "colab": {
          "base_uri": "https://localhost:8080/",
          "height": 0
        },
        "id": "P0s0Go4Y9IfR",
        "outputId": "d4f09fe4-6147-4bc0-ba01-c570cec0a004"
      },
      "source": [
        "marcas[2]"
      ],
      "execution_count": 121,
      "outputs": [
        {
          "output_type": "execute_result",
          "data": {
            "application/vnd.google.colaboratory.intrinsic+json": {
              "type": "string"
            },
            "text/plain": [
              "'fiat'"
            ]
          },
          "metadata": {
            "tags": []
          },
          "execution_count": 121
        }
      ]
    },
    {
      "cell_type": "markdown",
      "metadata": {
        "id": "yAIZK0j39Xlt"
      },
      "source": [
        "Dicionários - estrutura mais utilizada no Python"
      ]
    },
    {
      "cell_type": "code",
      "metadata": {
        "colab": {
          "base_uri": "https://localhost:8080/"
        },
        "id": "6LFHAnHS9kOB",
        "outputId": "132d1508-d479-4f74-bb4c-b498514e75ee"
      },
      "source": [
        "notas = {'português':8, 'inglês': 7.4, 'matemática': 9} \n",
        "notas\n",
        "#"
      ],
      "execution_count": 122,
      "outputs": [
        {
          "output_type": "execute_result",
          "data": {
            "text/plain": [
              "{'inglês': 7.4, 'matemática': 9, 'português': 8}"
            ]
          },
          "metadata": {
            "tags": []
          },
          "execution_count": 122
        }
      ]
    },
    {
      "cell_type": "code",
      "metadata": {
        "colab": {
          "base_uri": "https://localhost:8080/"
        },
        "id": "V0bpHe6M-EwH",
        "outputId": "92410f02-950d-45d7-c1bd-180490144838"
      },
      "source": [
        "pessoa = {'nome': 'João', 'idade': 25, 'profissão': 'pintor'} \n",
        "pessoa"
      ],
      "execution_count": 123,
      "outputs": [
        {
          "output_type": "execute_result",
          "data": {
            "text/plain": [
              "{'idade': 25, 'nome': 'João', 'profissão': 'pintor'}"
            ]
          },
          "metadata": {
            "tags": []
          },
          "execution_count": 123
        }
      ]
    },
    {
      "cell_type": "code",
      "metadata": {
        "colab": {
          "base_uri": "https://localhost:8080/"
        },
        "id": "MYkCntjQ-WE-",
        "outputId": "b076d9d2-c58d-477a-e6e3-2a8d69086dac"
      },
      "source": [
        "times = {1: 'Flamengo', 2: 'São Paulo', 3: 'Grêmio'}\n",
        "times"
      ],
      "execution_count": 124,
      "outputs": [
        {
          "output_type": "execute_result",
          "data": {
            "text/plain": [
              "{1: 'Flamengo', 2: 'São Paulo', 3: 'Grêmio'}"
            ]
          },
          "metadata": {
            "tags": []
          },
          "execution_count": 124
        }
      ]
    },
    {
      "cell_type": "markdown",
      "metadata": {
        "id": "dtuK6P7a-t9_"
      },
      "source": [
        "Selecionando elementos"
      ]
    },
    {
      "cell_type": "code",
      "metadata": {
        "colab": {
          "base_uri": "https://localhost:8080/",
          "height": 0
        },
        "id": "VB98dCw1-rOH",
        "outputId": "b12d6c30-35e0-4fd3-fc35-ccadf4ca2888"
      },
      "source": [
        "\n",
        "#utiliza a chave que usou para criar o dicionário, de forma diferente da lista\n",
        "notas['matemática']\n",
        "pessoa['nome']\n",
        "times[3]"
      ],
      "execution_count": 125,
      "outputs": [
        {
          "output_type": "execute_result",
          "data": {
            "application/vnd.google.colaboratory.intrinsic+json": {
              "type": "string"
            },
            "text/plain": [
              "'Grêmio'"
            ]
          },
          "metadata": {
            "tags": []
          },
          "execution_count": 125
        }
      ]
    },
    {
      "cell_type": "code",
      "metadata": {
        "colab": {
          "base_uri": "https://localhost:8080/"
        },
        "id": "ExLem9YJ_Pj7",
        "outputId": "71778477-6347-45a8-e3fa-d0da5701427f"
      },
      "source": [
        "notas['matemática'] =10\n",
        "notas"
      ],
      "execution_count": 126,
      "outputs": [
        {
          "output_type": "execute_result",
          "data": {
            "text/plain": [
              "{'inglês': 7.4, 'matemática': 10, 'português': 8}"
            ]
          },
          "metadata": {
            "tags": []
          },
          "execution_count": 126
        }
      ]
    },
    {
      "cell_type": "code",
      "metadata": {
        "colab": {
          "base_uri": "https://localhost:8080/"
        },
        "id": "DtKDRNXN_Ume",
        "outputId": "d549660e-0169-4fba-8791-9c2071be54a4"
      },
      "source": [
        "times[2] = 'Palmeiras'\n",
        "times"
      ],
      "execution_count": 127,
      "outputs": [
        {
          "output_type": "execute_result",
          "data": {
            "text/plain": [
              "{1: 'Flamengo', 2: 'Palmeiras', 3: 'Grêmio'}"
            ]
          },
          "metadata": {
            "tags": []
          },
          "execution_count": 127
        }
      ]
    },
    {
      "cell_type": "markdown",
      "metadata": {
        "id": "e70-vCej_mTb"
      },
      "source": [
        "Adicionando elementos"
      ]
    },
    {
      "cell_type": "code",
      "metadata": {
        "colab": {
          "base_uri": "https://localhost:8080/"
        },
        "id": "gI8H4J5A_iD6",
        "outputId": "2afa0bf8-27d4-4ca1-fc7b-107b99a3c1c6"
      },
      "source": [
        "notas[\"geografia\"] =7.1 #falar de elemento que não existe\n",
        "notas"
      ],
      "execution_count": 128,
      "outputs": [
        {
          "output_type": "execute_result",
          "data": {
            "text/plain": [
              "{'geografia': 7.1, 'inglês': 7.4, 'matemática': 10, 'português': 8}"
            ]
          },
          "metadata": {
            "tags": []
          },
          "execution_count": 128
        }
      ]
    },
    {
      "cell_type": "code",
      "metadata": {
        "colab": {
          "base_uri": "https://localhost:8080/"
        },
        "id": "0mUB8Agn_000",
        "outputId": "f08bb362-ffac-415b-860c-b73fd23677f5"
      },
      "source": [
        "times[85]= 'Vasco'\n",
        "times"
      ],
      "execution_count": 129,
      "outputs": [
        {
          "output_type": "execute_result",
          "data": {
            "text/plain": [
              "{1: 'Flamengo', 2: 'Palmeiras', 3: 'Grêmio', 85: 'Vasco'}"
            ]
          },
          "metadata": {
            "tags": []
          },
          "execution_count": 129
        }
      ]
    },
    {
      "cell_type": "markdown",
      "metadata": {
        "id": "dj5nFOpEALEx"
      },
      "source": [
        "###If/Else\n",
        "Estuturas de controle de fluxo\n"
      ]
    },
    {
      "cell_type": "code",
      "metadata": {
        "id": "UcweDrimAG6L"
      },
      "source": [
        "x =1\n",
        "y= 5"
      ],
      "execution_count": 130,
      "outputs": []
    },
    {
      "cell_type": "markdown",
      "metadata": {
        "id": "Kl5wUd5xAX0e"
      },
      "source": [
        "Operadores lógicos"
      ]
    },
    {
      "cell_type": "code",
      "metadata": {
        "colab": {
          "base_uri": "https://localhost:8080/"
        },
        "id": "Sg_UzQ6iAb3S",
        "outputId": "c109718c-480f-4e70-ca02-4e140280e5be"
      },
      "source": [
        "x==1 #perguntando se o valor de x é igual a 1"
      ],
      "execution_count": 131,
      "outputs": [
        {
          "output_type": "execute_result",
          "data": {
            "text/plain": [
              "True"
            ]
          },
          "metadata": {
            "tags": []
          },
          "execution_count": 131
        }
      ]
    },
    {
      "cell_type": "code",
      "metadata": {
        "colab": {
          "base_uri": "https://localhost:8080/"
        },
        "id": "-6pGJ_HKAmFL",
        "outputId": "528d295b-f8d6-4456-c73b-b88e463c6934"
      },
      "source": [
        "x>=0"
      ],
      "execution_count": 132,
      "outputs": [
        {
          "output_type": "execute_result",
          "data": {
            "text/plain": [
              "True"
            ]
          },
          "metadata": {
            "tags": []
          },
          "execution_count": 132
        }
      ]
    },
    {
      "cell_type": "code",
      "metadata": {
        "colab": {
          "base_uri": "https://localhost:8080/"
        },
        "id": "2PP8qJXMAq29",
        "outputId": "5e813a82-dbb7-426f-ecc1-91a4f26af481"
      },
      "source": [
        "x!=0  #(!=) diferente"
      ],
      "execution_count": 133,
      "outputs": [
        {
          "output_type": "execute_result",
          "data": {
            "text/plain": [
              "True"
            ]
          },
          "metadata": {
            "tags": []
          },
          "execution_count": 133
        }
      ]
    },
    {
      "cell_type": "code",
      "metadata": {
        "colab": {
          "base_uri": "https://localhost:8080/"
        },
        "id": "RNbybcCHAzWx",
        "outputId": "9ebaaf0a-8553-4aa7-a686-ec9148a03ae4"
      },
      "source": [
        "(x>0) and (y<2)"
      ],
      "execution_count": 134,
      "outputs": [
        {
          "output_type": "execute_result",
          "data": {
            "text/plain": [
              "False"
            ]
          },
          "metadata": {
            "tags": []
          },
          "execution_count": 134
        }
      ]
    },
    {
      "cell_type": "code",
      "metadata": {
        "colab": {
          "base_uri": "https://localhost:8080/"
        },
        "id": "af1nJk71A5ln",
        "outputId": "d42d520c-bd6b-415f-c152-ca3437d37530"
      },
      "source": [
        "(x>0) or (y<2)"
      ],
      "execution_count": 135,
      "outputs": [
        {
          "output_type": "execute_result",
          "data": {
            "text/plain": [
              "True"
            ]
          },
          "metadata": {
            "tags": []
          },
          "execution_count": 135
        }
      ]
    },
    {
      "cell_type": "markdown",
      "metadata": {
        "id": "zOesdCx8BEfj"
      },
      "source": [
        "Identação obrigatória, no Phyton"
      ]
    },
    {
      "cell_type": "code",
      "metadata": {
        "colab": {
          "base_uri": "https://localhost:8080/"
        },
        "id": "SN-cdKn2BIBN",
        "outputId": "ce848938-7d92-4c41-d215-d1df37b0f26f"
      },
      "source": [
        "x = 0\n",
        "if (x>0):\n",
        "  print('x é maior que zero')\n",
        "elif (x == 0):\n",
        "  print(\"x é zero\")\n",
        "else:\n",
        "  print('x é menor ou igual a zero')\n",
        "#blocos de código devem ter sua ordem alinhada dentro da identação (espaços)"
      ],
      "execution_count": 136,
      "outputs": [
        {
          "output_type": "stream",
          "text": [
            "x é zero\n"
          ],
          "name": "stdout"
        }
      ]
    },
    {
      "cell_type": "markdown",
      "metadata": {
        "id": "Rx-9Mg32CpYZ"
      },
      "source": [
        "###Comando FOR - de repetição\n"
      ]
    },
    {
      "cell_type": "code",
      "metadata": {
        "colab": {
          "base_uri": "https://localhost:8080/"
        },
        "id": "ujUbpoHwC09l",
        "outputId": "dc84ea90-5a2c-42a9-d247-f219d5f37a9a"
      },
      "source": [
        "contador = [0,1,2,3,4,5,6,7,8,9]\n",
        "contador"
      ],
      "execution_count": 137,
      "outputs": [
        {
          "output_type": "execute_result",
          "data": {
            "text/plain": [
              "[0, 1, 2, 3, 4, 5, 6, 7, 8, 9]"
            ]
          },
          "metadata": {
            "tags": []
          },
          "execution_count": 137
        }
      ]
    },
    {
      "cell_type": "code",
      "metadata": {
        "colab": {
          "base_uri": "https://localhost:8080/"
        },
        "id": "xbMmDDTJC9pf",
        "outputId": "7041b4ab-b15c-4e42-8759-0a704c860c5a"
      },
      "source": [
        "for valor in contador:\n",
        "  print(valor)\n",
        "#valor imprime valores na nossa lista \"contador\""
      ],
      "execution_count": 138,
      "outputs": [
        {
          "output_type": "stream",
          "text": [
            "0\n",
            "1\n",
            "2\n",
            "3\n",
            "4\n",
            "5\n",
            "6\n",
            "7\n",
            "8\n",
            "9\n"
          ],
          "name": "stdout"
        }
      ]
    },
    {
      "cell_type": "code",
      "metadata": {
        "id": "-Akx5JKkDSwO"
      },
      "source": [
        "range?"
      ],
      "execution_count": 139,
      "outputs": []
    },
    {
      "cell_type": "code",
      "metadata": {
        "colab": {
          "base_uri": "https://localhost:8080/"
        },
        "id": "Hu5cOyPwDe87",
        "outputId": "61dca3c6-1d8d-4ce6-f024-f87babb28099"
      },
      "source": [
        "for valor in range(10):\n",
        "  print(valor)"
      ],
      "execution_count": 140,
      "outputs": [
        {
          "output_type": "stream",
          "text": [
            "0\n",
            "1\n",
            "2\n",
            "3\n",
            "4\n",
            "5\n",
            "6\n",
            "7\n",
            "8\n",
            "9\n"
          ],
          "name": "stdout"
        }
      ]
    },
    {
      "cell_type": "code",
      "metadata": {
        "colab": {
          "base_uri": "https://localhost:8080/"
        },
        "id": "X9i4PhTzEQZj",
        "outputId": "5f4fb67b-199f-49e8-fc4e-e200b53b245e"
      },
      "source": [
        "for i in range(4,18,2):\n",
        "  print(i)"
      ],
      "execution_count": 141,
      "outputs": [
        {
          "output_type": "stream",
          "text": [
            "4\n",
            "6\n",
            "8\n",
            "10\n",
            "12\n",
            "14\n",
            "16\n"
          ],
          "name": "stdout"
        }
      ]
    },
    {
      "cell_type": "code",
      "metadata": {
        "id": "kLiUTwMBEc-R"
      },
      "source": [
        "#variavel valor pode ser qualquer nome\n",
        "#lembrar que o indice 18 é o número 17"
      ],
      "execution_count": 142,
      "outputs": []
    },
    {
      "cell_type": "code",
      "metadata": {
        "colab": {
          "base_uri": "https://localhost:8080/"
        },
        "id": "XU9Iug7HEmZn",
        "outputId": "79a2e7a1-7f36-4f39-c6bf-697408bad409"
      },
      "source": [
        "cidades = ['São Paulo', 'Brasília', 'Curitiba', 'Maceio']\n",
        "cidades"
      ],
      "execution_count": 143,
      "outputs": [
        {
          "output_type": "execute_result",
          "data": {
            "text/plain": [
              "['São Paulo', 'Brasília', 'Curitiba', 'Maceio']"
            ]
          },
          "metadata": {
            "tags": []
          },
          "execution_count": 143
        }
      ]
    },
    {
      "cell_type": "code",
      "metadata": {
        "colab": {
          "base_uri": "https://localhost:8080/"
        },
        "id": "BCuIe3f0E8NB",
        "outputId": "57b2fb0f-7289-4eed-9f03-4ff1df611195"
      },
      "source": [
        "for cidade in cidades:\n",
        "  print(\"Já morei em \" + cidade)"
      ],
      "execution_count": 144,
      "outputs": [
        {
          "output_type": "stream",
          "text": [
            "Já morei em São Paulo\n",
            "Já morei em Brasília\n",
            "Já morei em Curitiba\n",
            "Já morei em Maceio\n"
          ],
          "name": "stdout"
        }
      ]
    },
    {
      "cell_type": "code",
      "metadata": {
        "id": "0yZ5k45GF50x"
      },
      "source": [
        ""
      ],
      "execution_count": 144,
      "outputs": []
    },
    {
      "cell_type": "code",
      "metadata": {
        "colab": {
          "base_uri": "https://localhost:8080/"
        },
        "id": "lOCNm6CIFS6I",
        "outputId": "8d24f5a2-bd1c-4456-87af-85146f6edc96"
      },
      "source": [
        "minha_lista = [1,2,3, 'cat', 'dog', 'bird']\n",
        "minha_lista"
      ],
      "execution_count": 145,
      "outputs": [
        {
          "output_type": "execute_result",
          "data": {
            "text/plain": [
              "[1, 2, 3, 'cat', 'dog', 'bird']"
            ]
          },
          "metadata": {
            "tags": []
          },
          "execution_count": 145
        }
      ]
    },
    {
      "cell_type": "code",
      "metadata": {
        "id": "f1zt_mflHqcZ"
      },
      "source": [
        ""
      ],
      "execution_count": null,
      "outputs": []
    },
    {
      "cell_type": "code",
      "metadata": {
        "id": "DxvNaeg2F7uH",
        "colab": {
          "base_uri": "https://localhost:8080/"
        },
        "outputId": "25fe56df-562b-4cb2-cbb1-311d582e3bcd"
      },
      "source": [
        "for cada_item in minha_lista:\n",
        "  print(cada_item)"
      ],
      "execution_count": 146,
      "outputs": [
        {
          "output_type": "stream",
          "text": [
            "1\n",
            "2\n",
            "3\n",
            "cat\n",
            "dog\n",
            "bird\n"
          ],
          "name": "stdout"
        }
      ]
    },
    {
      "cell_type": "markdown",
      "metadata": {
        "id": "bGm118FiGQB0"
      },
      "source": [
        "WHILE"
      ]
    },
    {
      "cell_type": "code",
      "metadata": {
        "id": "Kv0JUU_0GS0G",
        "colab": {
          "base_uri": "https://localhost:8080/"
        },
        "outputId": "cbcf5a18-e4a6-4b6d-a78f-83c391933613"
      },
      "source": [
        "x=0\n",
        "while x < 5:\n",
        "  print(x)\n",
        "  x=x+1\n"
      ],
      "execution_count": 147,
      "outputs": [
        {
          "output_type": "stream",
          "text": [
            "0\n",
            "1\n",
            "2\n",
            "3\n",
            "4\n"
          ],
          "name": "stdout"
        }
      ]
    },
    {
      "cell_type": "markdown",
      "metadata": {
        "id": "rmj4m68EH1at"
      },
      "source": [
        "List Compreensions"
      ]
    },
    {
      "cell_type": "code",
      "metadata": {
        "colab": {
          "base_uri": "https://localhost:8080/"
        },
        "id": "2_gbai5yHsSa",
        "outputId": "a6e0a235-7af0-4368-804f-a008be9a1583"
      },
      "source": [
        "quadrados =[]\n",
        "for numero in range(10):\n",
        "  quadrados.append(numero**2)\n",
        "\n",
        "quadrados"
      ],
      "execution_count": 148,
      "outputs": [
        {
          "output_type": "execute_result",
          "data": {
            "text/plain": [
              "[0, 1, 4, 9, 16, 25, 36, 49, 64, 81]"
            ]
          },
          "metadata": {
            "tags": []
          },
          "execution_count": 148
        }
      ]
    },
    {
      "cell_type": "markdown",
      "metadata": {
        "id": "WrCEzvVMIF8a"
      },
      "source": [
        "Uma maneira mais concisa de criar listas"
      ]
    },
    {
      "cell_type": "code",
      "metadata": {
        "colab": {
          "base_uri": "https://localhost:8080/"
        },
        "id": "YEGyJpXpIJTn",
        "outputId": "dd245606-b15a-48fb-eb90-87f1722c993d"
      },
      "source": [
        "quad = [numero**2 for numero in range(10)]\n",
        "quad\n",
        "# a mesma list acima"
      ],
      "execution_count": 149,
      "outputs": [
        {
          "output_type": "execute_result",
          "data": {
            "text/plain": [
              "[0, 1, 4, 9, 16, 25, 36, 49, 64, 81]"
            ]
          },
          "metadata": {
            "tags": []
          },
          "execution_count": 149
        }
      ]
    },
    {
      "cell_type": "markdown",
      "metadata": {
        "id": "72HFnK1gIXVt"
      },
      "source": [
        "###Funções\n",
        "\n",
        "Função que não retorna o valor"
      ]
    },
    {
      "cell_type": "code",
      "metadata": {
        "colab": {
          "base_uri": "https://localhost:8080/"
        },
        "id": "7CqE1ms8IVq4",
        "outputId": "e292e02c-7d3a-4284-d1c1-55adf5950b45"
      },
      "source": [
        "def exibir_mensagem(parametro):\n",
        "  print(\"Mensagem: \" +parametro)\n",
        "\n",
        "exibir_mensagem('Olá!')"
      ],
      "execution_count": 153,
      "outputs": [
        {
          "output_type": "stream",
          "text": [
            "Mensagem: Olá!\n"
          ],
          "name": "stdout"
        }
      ]
    },
    {
      "cell_type": "code",
      "metadata": {
        "id": "Be9LN_GmJEds"
      },
      "source": [
        "def exibir_dados(nome,idade):\n",
        "  print(\"Meu nome é {} \".format(nome))\n",
        "  print(\"Tenho {} anos \".format(idade))"
      ],
      "execution_count": 154,
      "outputs": []
    },
    {
      "cell_type": "code",
      "metadata": {
        "colab": {
          "base_uri": "https://localhost:8080/"
        },
        "id": "Mm_ZvlPaJfOE",
        "outputId": "f002655c-12f2-42b2-fac4-494fb75ab3a5"
      },
      "source": [
        "exibir_dados('Maria', 70)"
      ],
      "execution_count": 155,
      "outputs": [
        {
          "output_type": "stream",
          "text": [
            "Meu nome é Maria \n",
            "Tenho 70 anos \n"
          ],
          "name": "stdout"
        }
      ]
    },
    {
      "cell_type": "code",
      "metadata": {
        "colab": {
          "base_uri": "https://localhost:8080/"
        },
        "id": "2PuaOSLPJoKX",
        "outputId": "4ae9e1ba-9c60-4e17-adef-a2dc26b1c44e"
      },
      "source": [
        "exibir_dados('José', 76)"
      ],
      "execution_count": 156,
      "outputs": [
        {
          "output_type": "stream",
          "text": [
            "Meu nome é José \n",
            "Tenho 76 anos \n"
          ],
          "name": "stdout"
        }
      ]
    },
    {
      "cell_type": "markdown",
      "metadata": {
        "id": "zypbM3LEJw6e"
      },
      "source": [
        "Funções que retornam valor"
      ]
    },
    {
      "cell_type": "code",
      "metadata": {
        "id": "oSHqdvU1J1Lm"
      },
      "source": [
        "def elevar_quadrado(numero):\n",
        "  return numero **2"
      ],
      "execution_count": 157,
      "outputs": []
    },
    {
      "cell_type": "code",
      "metadata": {
        "colab": {
          "base_uri": "https://localhost:8080/"
        },
        "id": "VcWQZyXtKAQD",
        "outputId": "bc711416-c65f-4035-cee4-8dcbe93dfb02"
      },
      "source": [
        "elevar_quadrado(2)"
      ],
      "execution_count": 158,
      "outputs": [
        {
          "output_type": "execute_result",
          "data": {
            "text/plain": [
              "4"
            ]
          },
          "metadata": {
            "tags": []
          },
          "execution_count": 158
        }
      ]
    },
    {
      "cell_type": "code",
      "metadata": {
        "colab": {
          "base_uri": "https://localhost:8080/"
        },
        "id": "IKxDAGThKFjL",
        "outputId": "7e4fa9bf-7630-428c-d0f9-d095f7568ab4"
      },
      "source": [
        "elevar_quadrado(25)"
      ],
      "execution_count": 159,
      "outputs": [
        {
          "output_type": "execute_result",
          "data": {
            "text/plain": [
              "625"
            ]
          },
          "metadata": {
            "tags": []
          },
          "execution_count": 159
        }
      ]
    },
    {
      "cell_type": "code",
      "metadata": {
        "id": "JuruRu9OKRVw"
      },
      "source": [
        ""
      ],
      "execution_count": null,
      "outputs": []
    },
    {
      "cell_type": "markdown",
      "metadata": {
        "id": "7oUQrgUZKR88"
      },
      "source": [
        "###Bibliotecas\n",
        "\n",
        "Já instaladas (Google colab)"
      ]
    },
    {
      "cell_type": "code",
      "metadata": {
        "colab": {
          "base_uri": "https://localhost:8080/"
        },
        "id": "8b7CZ_RqKab0",
        "outputId": "9624e526-f9bb-4025-f14f-07767cfde519"
      },
      "source": [
        "import numpy as np\n",
        "\n",
        "numpy.ones(5)"
      ],
      "execution_count": 161,
      "outputs": [
        {
          "output_type": "execute_result",
          "data": {
            "text/plain": [
              "array([1., 1., 1., 1., 1.])"
            ]
          },
          "metadata": {
            "tags": []
          },
          "execution_count": 161
        }
      ]
    },
    {
      "cell_type": "code",
      "metadata": {
        "colab": {
          "base_uri": "https://localhost:8080/"
        },
        "id": "2nPy23BWKlW4",
        "outputId": "539e3b56-2ef8-4e0d-d60a-ce57818a3568"
      },
      "source": [
        "np.ones(7)"
      ],
      "execution_count": 162,
      "outputs": [
        {
          "output_type": "execute_result",
          "data": {
            "text/plain": [
              "array([1., 1., 1., 1., 1., 1., 1.])"
            ]
          },
          "metadata": {
            "tags": []
          },
          "execution_count": 162
        }
      ]
    },
    {
      "cell_type": "code",
      "metadata": {
        "id": "A6y8fEE1KqgU"
      },
      "source": [
        "from numpy import ones"
      ],
      "execution_count": 163,
      "outputs": []
    },
    {
      "cell_type": "code",
      "metadata": {
        "id": "wN4ClAhfKwLP"
      },
      "source": [
        ""
      ],
      "execution_count": null,
      "outputs": []
    },
    {
      "cell_type": "markdown",
      "metadata": {
        "id": "5ePZtI31KxX5"
      },
      "source": [
        "Instalando bibliotecas externas"
      ]
    },
    {
      "cell_type": "code",
      "metadata": {
        "colab": {
          "base_uri": "https://localhost:8080/"
        },
        "id": "86trHSyoK2h6",
        "outputId": "57dc6b1f-77df-4570-d5e6-84ad76e1d18a"
      },
      "source": [
        "!pip install yfinance"
      ],
      "execution_count": 166,
      "outputs": [
        {
          "output_type": "stream",
          "text": [
            "Requirement already satisfied: yfinance in /usr/local/lib/python3.7/dist-packages (0.1.63)\n",
            "Requirement already satisfied: lxml>=4.5.1 in /usr/local/lib/python3.7/dist-packages (from yfinance) (4.6.3)\n",
            "Requirement already satisfied: pandas>=0.24 in /usr/local/lib/python3.7/dist-packages (from yfinance) (1.1.5)\n",
            "Requirement already satisfied: numpy>=1.15 in /usr/local/lib/python3.7/dist-packages (from yfinance) (1.19.5)\n",
            "Requirement already satisfied: multitasking>=0.0.7 in /usr/local/lib/python3.7/dist-packages (from yfinance) (0.0.9)\n",
            "Requirement already satisfied: requests>=2.20 in /usr/local/lib/python3.7/dist-packages (from yfinance) (2.23.0)\n",
            "Requirement already satisfied: pytz>=2017.2 in /usr/local/lib/python3.7/dist-packages (from pandas>=0.24->yfinance) (2018.9)\n",
            "Requirement already satisfied: python-dateutil>=2.7.3 in /usr/local/lib/python3.7/dist-packages (from pandas>=0.24->yfinance) (2.8.1)\n",
            "Requirement already satisfied: six>=1.5 in /usr/local/lib/python3.7/dist-packages (from python-dateutil>=2.7.3->pandas>=0.24->yfinance) (1.15.0)\n",
            "Requirement already satisfied: urllib3!=1.25.0,!=1.25.1,<1.26,>=1.21.1 in /usr/local/lib/python3.7/dist-packages (from requests>=2.20->yfinance) (1.24.3)\n",
            "Requirement already satisfied: idna<3,>=2.5 in /usr/local/lib/python3.7/dist-packages (from requests>=2.20->yfinance) (2.10)\n",
            "Requirement already satisfied: chardet<4,>=3.0.2 in /usr/local/lib/python3.7/dist-packages (from requests>=2.20->yfinance) (3.0.4)\n",
            "Requirement already satisfied: certifi>=2017.4.17 in /usr/local/lib/python3.7/dist-packages (from requests>=2.20->yfinance) (2021.5.30)\n"
          ],
          "name": "stdout"
        }
      ]
    }
  ]
}